{
 "cells": [
  {
   "cell_type": "code",
   "execution_count": 76,
   "id": "d940cd94",
   "metadata": {},
   "outputs": [],
   "source": [
    "import requests\n",
    "import pandas as pd\n",
    "TRADIER_API_KEY = \"Jta3vCKbfk5HxsN8hHqEp4HlyPku\"\n",
    "headers = {'Authorization': \"Bearer {}\".format(TRADIER_API_KEY), 'Accept': 'application/json'}"
   ]
  },
  {
   "cell_type": "code",
   "execution_count": 84,
   "id": "a84b3790",
   "metadata": {},
   "outputs": [],
   "source": [
    "\n",
    "\n",
    "def get_options_for_security(stock):\n",
    "    response = requests.get('https://sandbox.tradier.com/v1/markets/options/lookup',\n",
    "        params={'underlying': stock},\n",
    "        headers=headers\n",
    "    )\n",
    "\n",
    "    json_response = response.json()\n",
    "    return json_response['symbols'][0]['options']\n",
    "\n",
    "\n",
    "def get_quotes_for_options(options,batch_size=25):\n",
    "    chains = []\n",
    "    for i in range(0, len(options),batch_size):\n",
    "        options_batch = options[i:i+batch_size]\n",
    "        response = requests.get('https://sandbox.tradier.com/v1/markets/quotes',\n",
    "            params={'symbols': ','.join(options_batch), 'greeks': 'true'},\n",
    "            headers=headers\n",
    "        )    \n",
    "        json_response = response.json()\n",
    "        chains += json_response['quotes']['quote']\n",
    "    return chains\n",
    "    \n",
    "def get_quote_for_security(stock):\n",
    "    response = requests.get('https://sandbox.tradier.com/v1/markets/quotes',\n",
    "        params={'symbols': stock, 'greeks': 'false'},\n",
    "        headers=headers\n",
    "    )    \n",
    "    json_response = response.json()\n",
    "    return json_response['quotes']['quote']\n",
    "    "
   ]
  },
  {
   "cell_type": "code",
   "execution_count": 85,
   "id": "776cedf9",
   "metadata": {
    "scrolled": false
   },
   "outputs": [
    {
     "data": {
      "text/plain": [
       "{'symbol': 'WISH',\n",
       " 'description': 'ContextLogic Inc',\n",
       " 'exch': 'Q',\n",
       " 'type': 'stock',\n",
       " 'last': 10.69,\n",
       " 'change': 0.09,\n",
       " 'volume': 96133356,\n",
       " 'open': 11.07,\n",
       " 'high': 11.61,\n",
       " 'low': 10.2,\n",
       " 'close': 10.69,\n",
       " 'bid': 10.99,\n",
       " 'ask': 11.0,\n",
       " 'change_percentage': 0.85,\n",
       " 'average_volume': 13115100,\n",
       " 'last_volume': 151223,\n",
       " 'trade_date': 1623355200440,\n",
       " 'prevclose': 10.6,\n",
       " 'week_52_high': 32.8499,\n",
       " 'week_52_low': 0.37,\n",
       " 'bidsize': 25,\n",
       " 'bidexch': 'Q',\n",
       " 'bid_date': 1623369599000,\n",
       " 'asksize': 34,\n",
       " 'askexch': 'P',\n",
       " 'ask_date': 1623369599000,\n",
       " 'root_symbols': 'WISH'}"
      ]
     },
     "execution_count": 85,
     "metadata": {},
     "output_type": "execute_result"
    }
   ],
   "source": [
    "#options = get_options_for_security('WISH')\n",
    "get_quote_for_security(['WISH'])"
   ]
  },
  {
   "cell_type": "code",
   "execution_count": null,
   "id": "d197c611",
   "metadata": {},
   "outputs": [],
   "source": []
  }
 ],
 "metadata": {
  "kernelspec": {
   "display_name": "Python 3",
   "language": "python",
   "name": "python3"
  },
  "language_info": {
   "codemirror_mode": {
    "name": "ipython",
    "version": 3
   },
   "file_extension": ".py",
   "mimetype": "text/x-python",
   "name": "python",
   "nbconvert_exporter": "python",
   "pygments_lexer": "ipython3",
   "version": "3.8.8"
  }
 },
 "nbformat": 4,
 "nbformat_minor": 5
}
