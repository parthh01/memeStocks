{
 "cells": [
  {
   "cell_type": "code",
   "execution_count": 1,
   "id": "b3847131",
   "metadata": {},
   "outputs": [],
   "source": [
    "import requests\n",
    "import pandas as pd\n",
    "import numpy as np\n",
    "from bs4 import BeautifulSoup\n",
    "import py_vollib_vectorized as vollib\n",
    "from datetime import datetime, timedelta\n",
    "import matplotlib.pyplot as plt\n",
    "from alpaca_trade_api.rest import REST, TimeFrame\n",
    "import os \n",
    "from tradier_data import *\n",
    "from scraping import *\n",
    "from alpaca import *\n",
    "\n",
    "import re\n",
    "import praw\n",
    "\n",
    "\n",
    "# building a screener to look for highly shorted stocks trading at below fair value, looking for opportunity to run up through potential meme interest from WSB: \n",
    "# 1. screen for stocks with high short interest\n",
    "# 2. determine short interest is not consequence of a run-up (run up percentage < 40) and that stock is definitively below fair value\n",
    "# 3. check implied volatility of long term calls and change in open interest, with highly shorted stocks we should expect to see \n",
    "# it hedged with calls or sold puts. Any data to the contrary suggests opportunity\n",
    "# interesting point: It looks like atleast options on robinhood are priced with a 0% riskfree rate given the implied volatility figures they provide"
   ]
  },
  {
   "cell_type": "code",
   "execution_count": 9,
   "id": "2a2c6e45",
   "metadata": {},
   "outputs": [],
   "source": [
    "def get_wsb_analysis(): # pulled from tomsant/wsbTrendingStonks\n",
    "\n",
    "    reddit = praw.Reddit(\n",
    "      client_id = os.getenv(\"REDDIT_CLIENT_ID\"),\n",
    "      client_secret = os.getenv(\"REDDIT_SECRET\"),\n",
    "      user_agent = \"Mozilla/5.0 (Macintosh; Intel Mac OS X 10_15_7) AppleWebKit/537.36 (KHTML, like Gecko) Chrome/87.0.4280.141 Safari/537.36\"\n",
    "    )\n",
    "    df = []\n",
    "    for post in reddit.subreddit('wallstreetbets').hot(limit=500):\n",
    "        content = {\n",
    "        \"title\" : post.title,\n",
    "        \"text\" : post.selftext\n",
    "      }\n",
    "        df.append(content)\n",
    "    df = pd.DataFrame(df)\n",
    "    regex = re.compile('[^a-zA-Z ]')\n",
    "    word_dict = {}\n",
    "    for (index, row) in df.iterrows():\n",
    "        # titles\n",
    "        title = row['title']\n",
    "        title = regex.sub('', title)\n",
    "        title_words = title.split(' ')\n",
    "        # content\n",
    "        content = row['text']\n",
    "        content = regex.sub('', content)\n",
    "        content_words = content.split(' ')\n",
    "        # combine\n",
    "        words = title_words + content_words\n",
    "        for x in words:\n",
    "            if x in ['A', 'B', 'GO', 'ARE', 'ON']:\n",
    "                pass\n",
    "\n",
    "            elif x in word_dict:\n",
    "                word_dict[x] += 1\n",
    "            else:\n",
    "                word_dict[x] = 1\n",
    "    word_df = pd.DataFrame.from_dict(list(word_dict.items())).rename(columns = {0:\"Symbol\", 1:\"Frequency\"})\n",
    "    ticker_df = pd.read_csv('tickers.csv').rename(columns = {'Name':'Company_Name'})\n",
    "    stonks_df = pd.merge(ticker_df, word_df, on='Symbol')\n",
    "    stonks_df[\"Relative Frequency (%)\"] = stonks_df[\"Frequency\"]*100/stonks_df[\"Frequency\"].sum()\n",
    "    stonks_df[\"Symbol\"] = stonks_df[\"Symbol\"].astype(str)\n",
    "    return stonks_df [[\"Symbol\",\"Relative Frequency (%)\"]]\n",
    "\n"
   ]
  },
  {
   "cell_type": "code",
   "execution_count": 16,
   "id": "5aaeb3e0",
   "metadata": {},
   "outputs": [],
   "source": [
    "df= get_wsb_analysis()"
   ]
  },
  {
   "cell_type": "code",
   "execution_count": 13,
   "id": "ee06d70a",
   "metadata": {},
   "outputs": [],
   "source": [
    "df"
   ]
  },
  {
   "cell_type": "code",
   "execution_count": 15,
   "id": "712516a4",
   "metadata": {},
   "outputs": [
    {
     "data": {
      "text/plain": [
       "Symbol                     object\n",
       "Relative Frequency (%)    float64\n",
       "dtype: object"
      ]
     },
     "execution_count": 15,
     "metadata": {},
     "output_type": "execute_result"
    }
   ],
   "source": [
    "df.dtypes"
   ]
  },
  {
   "cell_type": "code",
   "execution_count": null,
   "id": "660ba332",
   "metadata": {},
   "outputs": [],
   "source": []
  }
 ],
 "metadata": {
  "kernelspec": {
   "display_name": "meme",
   "language": "python",
   "name": "meme"
  },
  "language_info": {
   "codemirror_mode": {
    "name": "ipython",
    "version": 3
   },
   "file_extension": ".py",
   "mimetype": "text/x-python",
   "name": "python",
   "nbconvert_exporter": "python",
   "pygments_lexer": "ipython3",
   "version": "3.8.5"
  }
 },
 "nbformat": 4,
 "nbformat_minor": 5
}
